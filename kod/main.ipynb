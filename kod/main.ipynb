{
 "cells": [
  {
   "cell_type": "code",
   "execution_count": 14,
   "id": "a3ec021b",
   "metadata": {},
   "outputs": [
    {
     "name": "stdout",
     "output_type": "stream",
     "text": [
      "Gelen mesaj: Pasaportunuz başvuru dosyanızla birlikte konsolosluğa iletilmiştir. Başvurunuz konsoloslukta değerlendirme aşamasındadır.\n"
     ]
    }
   ],
   "source": [
    "from selenium import webdriver\n",
    "from selenium.webdriver.common.by import By\n",
    "from selenium.webdriver.chrome.options import Options\n",
    "import time\n",
    "\n",
    "# Chrome ayarları\n",
    "options = Options()\n",
    "options.add_argument(\"--start-maximized\")\n",
    "\n",
    "# WebDriver başlat\n",
    "driver = webdriver.Chrome(options=options)\n",
    "\n",
    "try:\n",
    "    # 1. Sayfayı aç\n",
    "    driver.get(\"https://appointment.as-visa.com/tr/basvuru-takibi\")\n",
    "\n",
    "    # 2. Sertifika penceresini manuel kapatman için bekle\n",
    "    time.sleep(3)\n",
    "\n",
    "    # 3. refNo1 ID'li alana 013420 yaz\n",
    "    input_box1 = driver.find_element(By.ID, \"refNo1\")\n",
    "    input_box1.click()\n",
    "    input_box1.send_keys(\"013420\")\n",
    "    \n",
    "    time.sleep(2)  # Girişin işlenmesi için kısa bir bekleme\n",
    "    # 4. XPath ile verdiğin input alanını bul ve tıkla\n",
    "    xpath_input = driver.find_element(By.XPATH, \"/html/body/div[2]/div[4]/div/div/div/div[1]/div/div/div/div[2]/div/form/div[4]/input\")\n",
    "    xpath_input.click()\n",
    "\n",
    "    # 7. Boşluk ve ikinci kelime: \"S36544337\"\n",
    "    xpath_input.send_keys(\"S36544337\")\n",
    "    time.sleep(1)  # Girişin işlenmesi için kısa bir bekleme\n",
    "    \n",
    "    xpath_input = driver.find_element(By.XPATH, \"/html/body/div[2]/div[4]/div/div/div/div[1]/div/div/div/div[2]/div/form/div[6]/button\")\n",
    "    xpath_input.click()\n",
    "    \n",
    "    result_message = driver.find_element(By.XPATH, \"/html/body/div[2]/div[4]/div/div/div/div[1]/div/div/div/h3\").text\n",
    "    print(\"Gelen mesaj:\", result_message)\n",
    "finally:\n",
    "    pass\n",
    "    # driver.quit()  # Test sonrası tarayıcıyı kapatmak istersen açabilirsin\n",
    "    \n",
    "    \n"
   ]
  },
  {
   "cell_type": "code",
   "execution_count": null,
   "id": "04b7d26c",
   "metadata": {},
   "outputs": [],
   "source": []
  },
  {
   "cell_type": "code",
   "execution_count": null,
   "id": "baad1af8",
   "metadata": {},
   "outputs": [],
   "source": []
  }
 ],
 "metadata": {
  "kernelspec": {
   "display_name": "Python 3",
   "language": "python",
   "name": "python3"
  },
  "language_info": {
   "codemirror_mode": {
    "name": "ipython",
    "version": 3
   },
   "file_extension": ".py",
   "mimetype": "text/x-python",
   "name": "python",
   "nbconvert_exporter": "python",
   "pygments_lexer": "ipython3",
   "version": "3.11.9"
  }
 },
 "nbformat": 4,
 "nbformat_minor": 5
}
