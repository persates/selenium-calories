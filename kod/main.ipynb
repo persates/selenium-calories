{
 "cells": [
  {
   "cell_type": "code",
   "execution_count": 25,
   "id": "b6bcdb4d",
   "metadata": {},
   "outputs": [
    {
     "name": "stdout",
     "output_type": "stream",
     "text": [
      "Gelen mesaj: Pasaportunuz başvuru dosyanızla birlikte konsolosluğa iletilmiştir. Başvurunuz konsoloslukta değerlendirme aşamasındadır.\n"
     ]
    }
   ],
   "source": [
    "from selenium import webdriver\n",
    "from selenium.webdriver.common.by import By\n",
    "from selenium.webdriver.chrome.options import Options\n",
    "import pyautogui\n",
    "import time\n",
    "from selenium.webdriver.support.ui import WebDriverWait\n",
    "from selenium.webdriver.support import expected_conditions as EC\n",
    "\n",
    "# Tarayıcı seçenekleri\n",
    "options = Options()\n",
    "options.add_argument(\"--start-maximized\")\n",
    "\n",
    "# Sayfa yüklenme stratejisini 'none' yapıyoruz: get() sayfa yüklemesini beklemez, hemen döner\n",
    "options.page_load_strategy = 'none'\n",
    "\n",
    "# WebDriver başlat\n",
    "driver = webdriver.Chrome(options=options)\n",
    "\n",
    "# Siteyi aç (sayfa tamamen yüklenmeden kontrolü verir)\n",
    "driver.get(\"https://appointment.as-visa.com/tr/basvuru-takibi\")\n",
    "\n",
    "# 2 saniye bekle (sayfanın yüklenmesi için)\n",
    "time.sleep(1)\n",
    "\n",
    "# Pencereyi öne al ve maximize et (pyautogui tıklaması için önemli)\n",
    "driver.maximize_window()\n",
    "time.sleep(1)\n",
    "\n",
    "# PyAutoGUI ile koordinata tıklama (ekran çözünürlüğüne göre ayarla)\n",
    "pyautogui.click(x=1188, y=359)\n",
    "\n",
    "# Tıklamadan sonra sayfanın biraz daha yüklenmesi için bekle\n",
    "time.sleep(5)\n",
    "# Sayfanın sonuna scroll yap\n",
    "driver.execute_script(\"window.scrollTo(0, document.body.scrollHeight);\")\n",
    "time.sleep(1)  # scroll sonrası sayfanın stabilize olması için kısa be\n",
    "\n",
    "try:\n",
    "    wait = WebDriverWait(driver, 10)  # max 10 saniye bekle\n",
    "\n",
    "    # refNo1 alanı görünene kadar bekle ve sonra işlemleri yap\n",
    "    input_box1 = wait.until(EC.element_to_be_clickable((By.ID, \"refNo1\")))\n",
    "    input_box1.click()\n",
    "    input_box1.send_keys(\"013420\")\n",
    "\n",
    "    # İkinci alanı bekle ve doldur\n",
    "    input2 = wait.until(EC.element_to_be_clickable((By.XPATH, \"/html/body/div[2]/div[4]/div/div/div/div[1]/div/div/div/div[2]/div/form/div[4]/input\")))\n",
    "    input2.click()\n",
    "    input2.send_keys(\"S36544337\")\n",
    "\n",
    "    # Butona tıkla\n",
    "    submit_btn = wait.until(EC.element_to_be_clickable((By.XPATH, \"/html/body/div[2]/div[4]/div/div/div/div[1]/div/div/div/div[2]/div/form/div[6]/button\")))\n",
    "    submit_btn.click()\n",
    "\n",
    "    # Sonucu bekle ve yazdır\n",
    "    result_message = wait.until(EC.visibility_of_element_located((By.XPATH, \"/html/body/div[2]/div[4]/div/div/div/div[1]/div/div/div/h3\"))).text\n",
    "    print(\"Gelen mesaj:\", result_message)\n",
    "\n",
    "finally:\n",
    "    pass\n"
   ]
  },
  {
   "cell_type": "code",
   "execution_count": null,
   "id": "74e5a129",
   "metadata": {},
   "outputs": [],
   "source": []
  }
 ],
 "metadata": {
  "kernelspec": {
   "display_name": "Python 3",
   "language": "python",
   "name": "python3"
  },
  "language_info": {
   "codemirror_mode": {
    "name": "ipython",
    "version": 3
   },
   "file_extension": ".py",
   "mimetype": "text/x-python",
   "name": "python",
   "nbconvert_exporter": "python",
   "pygments_lexer": "ipython3",
   "version": "3.11.9"
  }
 },
 "nbformat": 4,
 "nbformat_minor": 5
}
