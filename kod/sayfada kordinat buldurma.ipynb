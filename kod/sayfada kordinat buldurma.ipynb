{
 "cells": [
  {
   "cell_type": "code",
   "execution_count": 2,
   "id": "dec17027",
   "metadata": {},
   "outputs": [
    {
     "name": "stdout",
     "output_type": "stream",
     "text": [
      "3 saniye içinde fareyi istediğin konuma götür...\n",
      "Mouse koordinatları: X=1188, Y=359\n"
     ]
    }
   ],
   "source": [
    "import pyautogui\n",
    "import time\n",
    "\n",
    "print(\"3 saniye içinde fareyi istediğin konuma götür...\")\n",
    "\n",
    "time.sleep(3)  # 3 saniye bekle\n",
    "\n",
    "x, y = pyautogui.position()  # Fare koordinatlarını al\n",
    "print(f\"Mouse koordinatları: X={x}, Y={y}\")\n"
   ]
  },
  {
   "cell_type": "code",
   "execution_count": null,
   "id": "67b5aeec",
   "metadata": {},
   "outputs": [],
   "source": []
  }
 ],
 "metadata": {
  "kernelspec": {
   "display_name": "Python 3",
   "language": "python",
   "name": "python3"
  },
  "language_info": {
   "codemirror_mode": {
    "name": "ipython",
    "version": 3
   },
   "file_extension": ".py",
   "mimetype": "text/x-python",
   "name": "python",
   "nbconvert_exporter": "python",
   "pygments_lexer": "ipython3",
   "version": "3.11.9"
  }
 },
 "nbformat": 4,
 "nbformat_minor": 5
}
